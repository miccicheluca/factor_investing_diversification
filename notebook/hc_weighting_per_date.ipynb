{
 "cells": [
  {
   "cell_type": "code",
   "execution_count": 1,
   "metadata": {},
   "outputs": [],
   "source": [
    "import os\n",
    "import sys\n",
    "\n",
    "os.chdir(\"../..\")\n",
    "\n",
    "cwd = os.getcwd()\n",
    "\n",
    "for root, dirs, file in os.walk(cwd):\n",
    "    sys.path.append(root)"
   ]
  },
  {
   "cell_type": "code",
   "execution_count": 2,
   "metadata": {},
   "outputs": [
    {
     "data": {
      "text/plain": [
       "'c:\\\\Users\\\\HP\\\\Desktop\\\\Work\\\\Projects\\\\factor_investing'"
      ]
     },
     "execution_count": 2,
     "metadata": {},
     "output_type": "execute_result"
    }
   ],
   "source": [
    "cwd"
   ]
  },
  {
   "cell_type": "code",
   "execution_count": 3,
   "metadata": {},
   "outputs": [],
   "source": [
    "import polars as pl\n",
    "import pandas as pd\n",
    "import datetime as dt\n",
    "import matplotlib.pyplot as plt\n",
    "\n",
    "from utils import set_layout"
   ]
  },
  {
   "cell_type": "code",
   "execution_count": 4,
   "metadata": {},
   "outputs": [],
   "source": [
    "%load_ext autoreload\n",
    "%autoreload 2"
   ]
  },
  {
   "cell_type": "markdown",
   "metadata": {},
   "source": [
    "## Load Data"
   ]
  },
  {
   "cell_type": "markdown",
   "metadata": {},
   "source": [
    "### Factors infos"
   ]
  },
  {
   "cell_type": "code",
   "execution_count": 12,
   "metadata": {},
   "outputs": [],
   "source": [
    "PATH_TO_DATA = \"data/prep_data/alloc/bounded\"\n",
    "FILENAMES = (\n",
    "    pl.DataFrame({\"filename\": os.listdir(PATH_TO_DATA)})\n",
    "    .filter(pl.col(\"filename\").str.contains(\"ward\"))\n",
    "    .to_series()\n",
    "    .sort()\n",
    "    .to_list()\n",
    ")\n",
    "\n",
    "out = []\n",
    "for filename in FILENAMES:\n",
    "    out.append(\n",
    "        pl.read_parquet(os.path.join(PATH_TO_DATA, filename))\n",
    "        .select([\"name\", \"date\", \"relative_weight\", \"cluster\"])\n",
    "        .with_columns(pl.lit(filename).alias(\"alloc_model\"))\n",
    "    )\n",
    "\n",
    "df_alloc = pl.concat(out)"
   ]
  },
  {
   "cell_type": "markdown",
   "metadata": {},
   "source": [
    "## Plot weight allocate to factors"
   ]
  },
  {
   "cell_type": "markdown",
   "metadata": {},
   "source": [
    "#### Plot Function"
   ]
  },
  {
   "cell_type": "code",
   "execution_count": 14,
   "metadata": {},
   "outputs": [],
   "source": [
    "def get_sim_windows_filter_expr(sim_windows: list) -> pl.Expr:\n",
    "    window_filter = \"\"\n",
    "    for window in sim_windows:\n",
    "        window_filter += f\"sim_{window}|\"\n",
    "    return pl.col(\"alloc_model\").str.contains(window_filter[:-1])\n",
    "\n",
    "\n",
    "def plot_weights_per_time_per_factor(\n",
    "    df_weights: pl.DataFrame,\n",
    "    factor: str,\n",
    "    sim_windows: list,\n",
    "    alloc_methods_filter_expr: list,\n",
    "    title: str,\n",
    ") -> None:\n",
    "    fig, ax = plt.subplots(ncols=1, nrows=len(alloc_methods_filter_expr), figsize=(15, 10))\n",
    "    fig.suptitle(title, size=15)\n",
    "\n",
    "    df_factor_to_plot = df_weights.filter(\n",
    "        pl.col(\"factor\") == factor, get_sim_windows_filter_expr(sim_windows=sim_windows)\n",
    "    )\n",
    "\n",
    "    for i, alloc_method in enumerate(alloc_methods_filter_expr):\n",
    "\n",
    "        df_temp = df_factor_to_plot.filter(alloc_method[0]).pivot(\n",
    "            index=\"date\", on=\"alloc_model\", values=\"relative_weight\"\n",
    "        )\n",
    "\n",
    "        df_temp.to_pandas().set_index(\"date\").plot(ax=ax[i])\n",
    "        ax[i].set_title(alloc_method[1])\n",
    "        ax[i].set_xlabel(\"\")\n",
    "        ax = set_layout(ax=ax)\n",
    "\n",
    "    plt.tight_layout()"
   ]
  },
  {
   "cell_type": "markdown",
   "metadata": {},
   "source": [
    "### Global Params"
   ]
  },
  {
   "cell_type": "code",
   "execution_count": 15,
   "metadata": {},
   "outputs": [],
   "source": [
    "ALLOC_METHOD_FILTER_EXPR = [\n",
    "    (\n",
    "        [\n",
    "            pl.col(\"alloc_model\").str.contains(\"hrp\"),\n",
    "            ~pl.col(\"alloc_model\").str.contains(\"risk\"),\n",
    "        ],\n",
    "        \"HERC\",\n",
    "    ),\n",
    "    (\n",
    "        [\n",
    "            pl.col(\"alloc_model\").str.contains(\"hrp\"),\n",
    "            pl.col(\"alloc_model\").str.contains(\"risk\"),\n",
    "        ],\n",
    "        \"HRP\",\n",
    "    ),\n",
    "    (\n",
    "        [\n",
    "            pl.col(\"alloc_model\").str.contains(\"harp\"),\n",
    "        ],\n",
    "        \"HARP\",\n",
    "    ),\n",
    "]\n",
    "SIM_WINDOWS = [1, 6, 12, 24]"
   ]
  },
  {
   "cell_type": "markdown",
   "metadata": {},
   "source": [
    "### Factors Allocation"
   ]
  },
  {
   "cell_type": "code",
   "execution_count": 17,
   "metadata": {},
   "outputs": [
    {
     "ename": "ColumnNotFoundError",
     "evalue": "factor",
     "output_type": "error",
     "traceback": [
      "\u001b[1;31m---------------------------------------------------------------------------\u001b[0m",
      "\u001b[1;31mColumnNotFoundError\u001b[0m                       Traceback (most recent call last)",
      "Cell \u001b[1;32mIn[17], line 1\u001b[0m\n\u001b[1;32m----> 1\u001b[0m FACTORS \u001b[38;5;241m=\u001b[39m \u001b[43mdf_alloc\u001b[49m\u001b[38;5;241;43m.\u001b[39;49m\u001b[43mselect\u001b[49m\u001b[43m(\u001b[49m\u001b[38;5;124;43m\"\u001b[39;49m\u001b[38;5;124;43mfactor\u001b[39;49m\u001b[38;5;124;43m\"\u001b[39;49m\u001b[43m)\u001b[49m\u001b[38;5;241m.\u001b[39mto_series()\u001b[38;5;241m.\u001b[39munique()\u001b[38;5;241m.\u001b[39msort()\n\u001b[0;32m      3\u001b[0m \u001b[38;5;28;01mfor\u001b[39;00m factor \u001b[38;5;129;01min\u001b[39;00m FACTORS:\n\u001b[0;32m      4\u001b[0m     plot_weights_per_time_per_factor(\n\u001b[0;32m      5\u001b[0m         df_weights\u001b[38;5;241m=\u001b[39mdf_alloc\u001b[38;5;241m.\u001b[39mgroup_by([\u001b[38;5;124m\"\u001b[39m\u001b[38;5;124malloc_model\u001b[39m\u001b[38;5;124m\"\u001b[39m, \u001b[38;5;124m\"\u001b[39m\u001b[38;5;124mdate\u001b[39m\u001b[38;5;124m\"\u001b[39m, \u001b[38;5;124m\"\u001b[39m\u001b[38;5;124mcluster\u001b[39m\u001b[38;5;124m\"\u001b[39m])\n\u001b[0;32m      6\u001b[0m         \u001b[38;5;241m.\u001b[39magg(pl\u001b[38;5;241m.\u001b[39mcol(\u001b[38;5;124m\"\u001b[39m\u001b[38;5;124mrelative_weight\u001b[39m\u001b[38;5;124m\"\u001b[39m)\u001b[38;5;241m.\u001b[39msum())\n\u001b[1;32m   (...)\u001b[0m\n\u001b[0;32m     11\u001b[0m         title\u001b[38;5;241m=\u001b[39m\u001b[38;5;124mf\u001b[39m\u001b[38;5;124m\"\u001b[39m\u001b[38;5;124mTotal weight of \u001b[39m\u001b[38;5;132;01m{\u001b[39;00mfactor\u001b[38;5;132;01m}\u001b[39;00m\u001b[38;5;124m\"\u001b[39m,\n\u001b[0;32m     12\u001b[0m     )\n",
      "File \u001b[1;32mc:\\Users\\HP\\anaconda3\\envs\\env_luca\\Lib\\site-packages\\polars\\dataframe\\frame.py:8672\u001b[0m, in \u001b[0;36mDataFrame.select\u001b[1;34m(self, *exprs, **named_exprs)\u001b[0m\n\u001b[0;32m   8572\u001b[0m \u001b[38;5;28;01mdef\u001b[39;00m \u001b[38;5;21mselect\u001b[39m(\n\u001b[0;32m   8573\u001b[0m     \u001b[38;5;28mself\u001b[39m, \u001b[38;5;241m*\u001b[39mexprs: IntoExpr \u001b[38;5;241m|\u001b[39m Iterable[IntoExpr], \u001b[38;5;241m*\u001b[39m\u001b[38;5;241m*\u001b[39mnamed_exprs: IntoExpr\n\u001b[0;32m   8574\u001b[0m ) \u001b[38;5;241m-\u001b[39m\u001b[38;5;241m>\u001b[39m DataFrame:\n\u001b[0;32m   8575\u001b[0m \u001b[38;5;250m    \u001b[39m\u001b[38;5;124;03m\"\"\"\u001b[39;00m\n\u001b[0;32m   8576\u001b[0m \u001b[38;5;124;03m    Select columns from this DataFrame.\u001b[39;00m\n\u001b[0;32m   8577\u001b[0m \n\u001b[1;32m   (...)\u001b[0m\n\u001b[0;32m   8670\u001b[0m \u001b[38;5;124;03m    └──────────────┘\u001b[39;00m\n\u001b[0;32m   8671\u001b[0m \u001b[38;5;124;03m    \"\"\"\u001b[39;00m\n\u001b[1;32m-> 8672\u001b[0m     \u001b[38;5;28;01mreturn\u001b[39;00m \u001b[38;5;28;43mself\u001b[39;49m\u001b[38;5;241;43m.\u001b[39;49m\u001b[43mlazy\u001b[49m\u001b[43m(\u001b[49m\u001b[43m)\u001b[49m\u001b[38;5;241;43m.\u001b[39;49m\u001b[43mselect\u001b[49m\u001b[43m(\u001b[49m\u001b[38;5;241;43m*\u001b[39;49m\u001b[43mexprs\u001b[49m\u001b[43m,\u001b[49m\u001b[43m \u001b[49m\u001b[38;5;241;43m*\u001b[39;49m\u001b[38;5;241;43m*\u001b[39;49m\u001b[43mnamed_exprs\u001b[49m\u001b[43m)\u001b[49m\u001b[38;5;241;43m.\u001b[39;49m\u001b[43mcollect\u001b[49m\u001b[43m(\u001b[49m\u001b[43m_eager\u001b[49m\u001b[38;5;241;43m=\u001b[39;49m\u001b[38;5;28;43;01mTrue\u001b[39;49;00m\u001b[43m)\u001b[49m\n",
      "File \u001b[1;32mc:\\Users\\HP\\anaconda3\\envs\\env_luca\\Lib\\site-packages\\polars\\lazyframe\\frame.py:1942\u001b[0m, in \u001b[0;36mLazyFrame.collect\u001b[1;34m(self, type_coercion, predicate_pushdown, projection_pushdown, simplify_expression, slice_pushdown, comm_subplan_elim, comm_subexpr_elim, cluster_with_columns, no_optimization, streaming, background, _eager, **_kwargs)\u001b[0m\n\u001b[0;32m   1939\u001b[0m \u001b[38;5;66;03m# Only for testing purposes atm.\u001b[39;00m\n\u001b[0;32m   1940\u001b[0m callback \u001b[38;5;241m=\u001b[39m _kwargs\u001b[38;5;241m.\u001b[39mget(\u001b[38;5;124m\"\u001b[39m\u001b[38;5;124mpost_opt_callback\u001b[39m\u001b[38;5;124m\"\u001b[39m)\n\u001b[1;32m-> 1942\u001b[0m \u001b[38;5;28;01mreturn\u001b[39;00m wrap_df(\u001b[43mldf\u001b[49m\u001b[38;5;241;43m.\u001b[39;49m\u001b[43mcollect\u001b[49m\u001b[43m(\u001b[49m\u001b[43mcallback\u001b[49m\u001b[43m)\u001b[49m)\n",
      "\u001b[1;31mColumnNotFoundError\u001b[0m: factor"
     ]
    }
   ],
   "source": [
    "FACTORS = df_alloc.select(\"factor\").to_series().unique().sort()\n",
    "\n",
    "for factor in FACTORS:\n",
    "    plot_weights_per_time_per_factor(\n",
    "        df_weights=df_alloc.group_by([\"alloc_model\", \"date\", \"cluster\"])\n",
    "        .agg(pl.col(\"relative_weight\").sum())\n",
    "        .sort(\"date\"),\n",
    "        factor=factor,\n",
    "        sim_windows=SIM_WINDOWS,\n",
    "        alloc_methods_filter_expr=ALLOC_METHOD_FILTER_EXPR,\n",
    "        title=f\"Total weight of {factor}\",\n",
    "    )"
   ]
  },
  {
   "cell_type": "code",
   "execution_count": null,
   "metadata": {},
   "outputs": [],
   "source": []
  }
 ],
 "metadata": {
  "kernelspec": {
   "display_name": "env_luca",
   "language": "python",
   "name": "python3"
  },
  "language_info": {
   "codemirror_mode": {
    "name": "ipython",
    "version": 3
   },
   "file_extension": ".py",
   "mimetype": "text/x-python",
   "name": "python",
   "nbconvert_exporter": "python",
   "pygments_lexer": "ipython3",
   "version": "3.12.0"
  }
 },
 "nbformat": 4,
 "nbformat_minor": 2
}
